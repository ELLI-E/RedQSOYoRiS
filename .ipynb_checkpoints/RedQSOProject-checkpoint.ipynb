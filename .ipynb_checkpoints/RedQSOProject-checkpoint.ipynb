{
 "cells": [
  {
   "cell_type": "markdown",
   "metadata": {},
   "source": [
    "New red QSO Code"
   ]
  },
  {
   "cell_type": "code",
   "execution_count": 9,
   "metadata": {},
   "outputs": [],
   "source": [
    "#imports placed here\n",
    "import os\n",
    "import pickle \n",
    "from matplotlib import pyplot as plt\n",
    "import pandas as pd\n",
    "import numpy as np\n",
    "from scripts import rgbImageGenerator\n",
    "import matplotlib"
   ]
  },
  {
   "cell_type": "code",
   "execution_count": 10,
   "metadata": {},
   "outputs": [
    {
     "name": "stderr",
     "output_type": "stream",
     "text": [
      "/tmp/ipykernel_11590/2914408607.py:5: MatplotlibDeprecationWarning: Auto-close()ing of figures upon backend switching is deprecated since 3.8 and will be removed two minor releases later.  To suppress this warning, explicitly call plt.close('all') first.\n",
      "  matplotlib.use(\"qtagg\")\n"
     ]
    },
    {
     "name": "stdout",
     "output_type": "stream",
     "text": [
      "found file 39627800436540700, but pickle is missing\n",
      "found file 39627811958295714, but pickle is missing\n",
      "found file 39633127710134030, but pickle is missing\n",
      "found file 39633127731102356, but pickle is missing\n",
      "found file 39633132000904832, but pickle is missing\n",
      "The mean reduced chi squared is 1.597 with a standard deviation 0.665\n",
      "The median reduced chi squared is 1.539\n",
      "object list with reduced chi square value above 2:\n",
      "['39627752105579342', '39627752122355042', '39627770262716602', '39627776315100827', '39627788335975931', '39627799819979870', '39627800482678946', '39627841591051279', '39627842727709215', '39627877838225923', '39633114284164461', '39633118654629545', '39633136572695884', '39633145246517319']\n",
      "14 objects with reduced chi square values over 2\n"
     ]
    },
    {
     "data": {
      "text/plain": [
       "(array([124.,  10.,   2.,   1.,   0.,   1.,   0.,   0.,   0.,   1.]),\n",
       " array([ 0.62229634,  1.94946181,  3.27662729,  4.60379276,  5.93095824,\n",
       "         7.25812371,  8.58528919,  9.91245466, 11.23962014, 12.56678561,\n",
       "        13.89395109]),\n",
       " <BarContainer object of 10 artists>)"
      ]
     },
     "execution_count": 10,
     "metadata": {},
     "output_type": "execute_result"
    }
   ],
   "source": [
    "#Here we will inspect the contents of the pickle files for fits which exclude the host component\n",
    "#first get a list of directory contents and catalogue:\n",
    "fileAddress = \"results/excludinghost\"\n",
    "catalogue = pd.read_csv(\"data/RedQSOCatalogue.csv\")\n",
    "matplotlib.use(\"qtagg\")\n",
    "\n",
    "files = list(os.listdir(fileAddress))\n",
    "reducedChiSquareds = []\n",
    "highChiSquareObjects = []\n",
    "Zs = []\n",
    "for file in files:\n",
    "    #check that the file is a directory:\n",
    "    if \".\" in file:\n",
    "        continue\n",
    "    if os.path.exists(f\"{fileAddress}/{file}/fitting_results/{file}-result-band-g.pkl\"):\n",
    "        output = pickle.load(open(f\"{fileAddress}/{file}/fitting_results/{file}-result-band-g.pkl\",\"rb\"))\n",
    "        #print(output.final_result_ps)\n",
    "        #print(output.reduced_Chisq)\n",
    "        obj_No = list(catalogue[\"TARGETID\"]).index(int(file))\n",
    "        z = list(catalogue[\"Z\"])[obj_No]\n",
    "        reducedChiSquareds.append(output.reduced_Chisq)\n",
    "        if output.reduced_Chisq >= 2:\n",
    "            highChiSquareObjects.append(file)\n",
    "        Zs.append(z)\n",
    "    else:\n",
    "        print(f\"found file {file}, but pickle is missing\")\n",
    "\n",
    "#chi2 statistics\n",
    "print(f\"The mean reduced chi squared is {round(np.mean(Zs),3)} with a standard deviation {round(np.std(Zs),3)}\")\n",
    "print(f\"The median reduced chi squared is {round(np.median(Zs),3)}\")\n",
    "print(\"object list with reduced chi square value above 2:\")\n",
    "print(highChiSquareObjects)\n",
    "rgbImageGenerator.generateImages(highChiSquareObjects,r\"rgbimages/highChiSquare\",r\"data/images\") #image generation of high chi square objects\n",
    "print(f\"{len(highChiSquareObjects)} objects with reduced chi square values over 2\")\n",
    "\n",
    "#displaying plots:\n",
    "plt.figure()\n",
    "plt.plot(Zs,reducedChiSquareds,linestyle=\"None\",marker=\"x\")\n",
    "plt.xlabel(\"z\")\n",
    "plt.ylabel(r\"$\\chi^{2}_{\\nu}$\")\n",
    "plt.figure()\n",
    "plt.xlabel(r\"$\\chi^{2}_{\\nu}$\")\n",
    "plt.hist(reducedChiSquareds)\n"
   ]
  },
  {
   "cell_type": "code",
   "execution_count": null,
   "metadata": {},
   "outputs": [],
   "source": []
  }
 ],
 "metadata": {
  "kernelspec": {
   "display_name": "Python 3 (ipykernel)",
   "language": "python",
   "name": "python3"
  },
  "language_info": {
   "codemirror_mode": {
    "name": "ipython",
    "version": 3
   },
   "file_extension": ".py",
   "mimetype": "text/x-python",
   "name": "python",
   "nbconvert_exporter": "python",
   "pygments_lexer": "ipython3",
   "version": "3.12.4"
  }
 },
 "nbformat": 4,
 "nbformat_minor": 4
}
