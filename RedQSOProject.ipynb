{
 "cells": [
  {
   "cell_type": "markdown",
   "metadata": {},
   "source": [
    "New red QSO Code"
   ]
  },
  {
   "cell_type": "code",
   "execution_count": 2,
   "metadata": {},
   "outputs": [],
   "source": [
    "#imports placed here\n",
    "import os\n",
    "import pickle "
   ]
  },
  {
   "cell_type": "code",
   "execution_count": 7,
   "metadata": {},
   "outputs": [
    {
     "name": "stdout",
     "output_type": "stream",
     "text": [
      "[{'ra_image': array([0.16491426]), 'dec_image': array([-0.00151801]), 'point_amp': array([135.74342639]), 'flux_within_frame': 135.64631368930404, 'magnitude': 21.668980010213893}]\n",
      "1.0815435496397223\n",
      "[{'ra_image': array([0.17637365]), 'dec_image': array([-0.17056443]), 'point_amp': array([38.53070314]), 'flux_within_frame': 38.49711549361508, 'magnitude': 23.0364295250688}]\n",
      "1.1120417988424784\n"
     ]
    }
   ],
   "source": [
    "#Here we will inspect the contents of the pickle files for fits which exclude the host component\n",
    "#first get a list of directory contents:\n",
    "fileAddress = \"results/excludinghost\"\n",
    "files = list(os.listdir(fileAddress))\n",
    "outputs = []\n",
    "for file in files[:2]:\n",
    "    #check that the file is a directory:\n",
    "    if \".\" in file:\n",
    "        continue\n",
    "    if os.path.exists(f\"{fileAddress}/{file}/fitting_results/{file}-result-band-g.pkl\"):\n",
    "        output = pickle.load(open(f\"{fileAddress}/{file}/fitting_results/{file}-result-band-g.pkl\",\"rb\"))\n",
    "        print(output.final_result_ps)\n",
    "        print(output.reduced_Chisq)\n",
    "        outputs.append(output)\n",
    "    else:\n",
    "        print(f\"found file {file}, but pickle is missing\")"
   ]
  }
 ],
 "metadata": {
  "kernelspec": {
   "display_name": "galightMain",
   "language": "python",
   "name": "python3"
  },
  "language_info": {
   "codemirror_mode": {
    "name": "ipython",
    "version": 3
   },
   "file_extension": ".py",
   "mimetype": "text/x-python",
   "name": "python",
   "nbconvert_exporter": "python",
   "pygments_lexer": "ipython3",
   "version": "3.12.4"
  }
 },
 "nbformat": 4,
 "nbformat_minor": 2
}
