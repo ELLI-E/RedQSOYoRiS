{
 "cells": [
  {
   "cell_type": "markdown",
   "metadata": {},
   "source": [
    "New red QSO Code"
   ]
  },
  {
   "cell_type": "code",
   "execution_count": 4,
   "metadata": {},
   "outputs": [],
   "source": [
    "#imports placed here"
   ]
  },
  {
   "cell_type": "code",
   "execution_count": null,
   "metadata": {},
   "outputs": [],
   "source": [
    "#Here we will inspect the contents of the pickle files for fits which exclude the host component\n"
   ]
  }
 ],
 "metadata": {
  "kernelspec": {
   "display_name": "galightMain",
   "language": "python",
   "name": "python3"
  },
  "language_info": {
   "codemirror_mode": {
    "name": "ipython",
    "version": 3
   },
   "file_extension": ".py",
   "mimetype": "text/x-python",
   "name": "python",
   "nbconvert_exporter": "python",
   "pygments_lexer": "ipython3",
   "version": "3.12.4"
  }
 },
 "nbformat": 4,
 "nbformat_minor": 2
}
